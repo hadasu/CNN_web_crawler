{
 "cells": [
  {
   "cell_type": "markdown",
   "id": "b0037dfb",
   "metadata": {
    "papermill": {
     "duration": 0.026306,
     "end_time": "2022-03-16T14:27:52.763543",
     "exception": false,
     "start_time": "2022-03-16T14:27:52.737237",
     "status": "completed"
    },
    "tags": []
   },
   "source": [
    "# Data Cleaning"
   ]
  },
  {
   "cell_type": "markdown",
   "id": "cee1e515",
   "metadata": {
    "papermill": {
     "duration": 0.024354,
     "end_time": "2022-03-16T14:27:52.811955",
     "exception": false,
     "start_time": "2022-03-16T14:27:52.787601",
     "status": "completed"
    },
    "tags": []
   },
   "source": [
    "## Data Overview"
   ]
  },
  {
   "cell_type": "code",
   "execution_count": 1,
   "id": "76b73c02",
   "metadata": {
    "execution": {
     "iopub.execute_input": "2022-03-16T14:27:52.863271Z",
     "iopub.status.busy": "2022-03-16T14:27:52.862086Z",
     "iopub.status.idle": "2022-03-16T14:27:52.871248Z",
     "shell.execute_reply": "2022-03-16T14:27:52.871777Z",
     "shell.execute_reply.started": "2022-03-16T14:13:30.509152Z"
    },
    "papermill": {
     "duration": 0.036625,
     "end_time": "2022-03-16T14:27:52.872117",
     "exception": false,
     "start_time": "2022-03-16T14:27:52.835492",
     "status": "completed"
    },
    "tags": []
   },
   "outputs": [],
   "source": [
    "import pandas as pd\n",
    "\n",
    "import warnings\n",
    "warnings.filterwarnings('ignore')"
   ]
  },
  {
   "cell_type": "code",
   "execution_count": 2,
   "id": "3fcefeb0",
   "metadata": {
    "execution": {
     "iopub.execute_input": "2022-03-16T14:27:52.923064Z",
     "iopub.status.busy": "2022-03-16T14:27:52.922006Z",
     "iopub.status.idle": "2022-03-16T14:27:54.372333Z",
     "shell.execute_reply": "2022-03-16T14:27:54.371775Z",
     "shell.execute_reply.started": "2022-03-16T14:13:30.516671Z"
    },
    "papermill": {
     "duration": 1.47702,
     "end_time": "2022-03-16T14:27:54.372505",
     "exception": false,
     "start_time": "2022-03-16T14:27:52.895485",
     "status": "completed"
    },
    "tags": []
   },
   "outputs": [
    {
     "name": "stdout",
     "output_type": "stream",
     "text": [
      "<class 'pandas.core.frame.DataFrame'>\n",
      "RangeIndex: 9308 entries, 0 to 9307\n",
      "Data columns (total 11 columns):\n",
      " #   Column                Non-Null Count  Dtype \n",
      "---  ------                --------------  ----- \n",
      " 0   Unnamed: 0            9308 non-null   int64 \n",
      " 1   author                9308 non-null   object\n",
      " 2   date_published        9308 non-null   object\n",
      " 3   part_of               9308 non-null   object\n",
      " 4   article_section       9308 non-null   object\n",
      " 5   url                   9308 non-null   object\n",
      " 6   headline              9308 non-null   object\n",
      " 7   description           9308 non-null   object\n",
      " 8   keywords              9308 non-null   object\n",
      " 9   alternative_headline  9308 non-null   object\n",
      " 10  text                  9308 non-null   object\n",
      "dtypes: int64(1), object(10)\n",
      "memory usage: 800.0+ KB\n"
     ]
    }
   ],
   "source": [
    "dataset = pd.read_csv('../input/cnn-articles/CNN_Articles.csv')\n",
    "dataset.info()"
   ]
  },
  {
   "cell_type": "code",
   "execution_count": 3,
   "id": "554f3aec",
   "metadata": {
    "execution": {
     "iopub.execute_input": "2022-03-16T14:27:54.428535Z",
     "iopub.status.busy": "2022-03-16T14:27:54.427835Z",
     "iopub.status.idle": "2022-03-16T14:27:54.432072Z",
     "shell.execute_reply": "2022-03-16T14:27:54.431521Z",
     "shell.execute_reply.started": "2022-03-16T14:13:31.220031Z"
    },
    "papermill": {
     "duration": 0.035204,
     "end_time": "2022-03-16T14:27:54.432222",
     "exception": false,
     "start_time": "2022-03-16T14:27:54.397018",
     "status": "completed"
    },
    "tags": []
   },
   "outputs": [
    {
     "data": {
      "text/plain": [
       "(9308, 11)"
      ]
     },
     "execution_count": 3,
     "metadata": {},
     "output_type": "execute_result"
    }
   ],
   "source": [
    "dataset.shape"
   ]
  },
  {
   "cell_type": "code",
   "execution_count": 4,
   "id": "83c5bf51",
   "metadata": {
    "execution": {
     "iopub.execute_input": "2022-03-16T14:27:54.484397Z",
     "iopub.status.busy": "2022-03-16T14:27:54.483758Z",
     "iopub.status.idle": "2022-03-16T14:27:54.503098Z",
     "shell.execute_reply": "2022-03-16T14:27:54.502567Z",
     "shell.execute_reply.started": "2022-03-16T14:13:31.228077Z"
    },
    "papermill": {
     "duration": 0.04654,
     "end_time": "2022-03-16T14:27:54.503247",
     "exception": false,
     "start_time": "2022-03-16T14:27:54.456707",
     "status": "completed"
    },
    "tags": []
   },
   "outputs": [
    {
     "data": {
      "text/html": [
       "<div>\n",
       "<style scoped>\n",
       "    .dataframe tbody tr th:only-of-type {\n",
       "        vertical-align: middle;\n",
       "    }\n",
       "\n",
       "    .dataframe tbody tr th {\n",
       "        vertical-align: top;\n",
       "    }\n",
       "\n",
       "    .dataframe thead th {\n",
       "        text-align: right;\n",
       "    }\n",
       "</style>\n",
       "<table border=\"1\" class=\"dataframe\">\n",
       "  <thead>\n",
       "    <tr style=\"text-align: right;\">\n",
       "      <th></th>\n",
       "      <th>Unnamed: 0</th>\n",
       "      <th>author</th>\n",
       "      <th>date_published</th>\n",
       "      <th>part_of</th>\n",
       "      <th>article_section</th>\n",
       "      <th>url</th>\n",
       "      <th>headline</th>\n",
       "      <th>description</th>\n",
       "      <th>keywords</th>\n",
       "      <th>alternative_headline</th>\n",
       "      <th>text</th>\n",
       "    </tr>\n",
       "  </thead>\n",
       "  <tbody>\n",
       "    <tr>\n",
       "      <th>0</th>\n",
       "      <td>0</td>\n",
       "      <td>Jacopo Prisco, CNN</td>\n",
       "      <td>2021-07-15T02:46:59Z</td>\n",
       "      <td>news</td>\n",
       "      <td>world</td>\n",
       "      <td>https://www.cnn.com/2021/07/14/world/tusimple-...</td>\n",
       "      <td>There's a shortage of truckers, but TuSimple t...</td>\n",
       "      <td>The e-commerce boom has exacerbated a global t...</td>\n",
       "      <td>world, There's a shortage of truckers, but TuS...</td>\n",
       "      <td>There's a shortage of truckers, but TuSimple t...</td>\n",
       "      <td>(CNN)Right now, there's a shortage of truck d...</td>\n",
       "    </tr>\n",
       "    <tr>\n",
       "      <th>1</th>\n",
       "      <td>1</td>\n",
       "      <td>Jacopo Prisco, CNN</td>\n",
       "      <td>2021-07-15T02:46:59Z</td>\n",
       "      <td>news</td>\n",
       "      <td>world</td>\n",
       "      <td>https://www.cnn.com/2021/07/14/world/tusimple-...</td>\n",
       "      <td>There's a shortage of truckers, but TuSimple t...</td>\n",
       "      <td>The e-commerce boom has exacerbated a global t...</td>\n",
       "      <td>world, There's a shortage of truckers, but TuS...</td>\n",
       "      <td>There's a shortage of truckers, but TuSimple t...</td>\n",
       "      <td>(CNN)Right now, there's a shortage of truck d...</td>\n",
       "    </tr>\n",
       "    <tr>\n",
       "      <th>2</th>\n",
       "      <td>2</td>\n",
       "      <td>Stephanie Bailey, CNN</td>\n",
       "      <td>2021-05-12T07:52:09Z</td>\n",
       "      <td>news</td>\n",
       "      <td>world</td>\n",
       "      <td>https://www.cnn.com/2021/05/12/world/ironhand-...</td>\n",
       "      <td>Bioservo's robotic 'Ironhand' could protect fa...</td>\n",
       "      <td>Working in a factory can mean doing the same t...</td>\n",
       "      <td>world, Bioservo's robotic 'Ironhand' could pro...</td>\n",
       "      <td>A robotic 'Ironhand' could protect factory wor...</td>\n",
       "      <td>(CNN)Working in a factory or warehouse can me...</td>\n",
       "    </tr>\n",
       "    <tr>\n",
       "      <th>3</th>\n",
       "      <td>3</td>\n",
       "      <td>Words by Stephanie Bailey, video by Zahra Jamshed</td>\n",
       "      <td>2021-06-16T02:51:30Z</td>\n",
       "      <td>news</td>\n",
       "      <td>asia</td>\n",
       "      <td>https://www.cnn.com/2021/06/15/asia/swarm-robo...</td>\n",
       "      <td>This swarm of robots gets smarter the more it ...</td>\n",
       "      <td>In a Hong Kong warehouse, a swarm of autonomou...</td>\n",
       "      <td>asia, This swarm of robots gets smarter the mo...</td>\n",
       "      <td>This swarm of robots gets smarter the more it ...</td>\n",
       "      <td>(CNN)In a Hong Kong warehouse, a swarm of aut...</td>\n",
       "    </tr>\n",
       "    <tr>\n",
       "      <th>4</th>\n",
       "      <td>4</td>\n",
       "      <td>Paul R. La Monica, CNN Business</td>\n",
       "      <td>2022-03-15T09:57:36Z</td>\n",
       "      <td>business</td>\n",
       "      <td>investing</td>\n",
       "      <td>https://www.cnn.com/2022/03/15/investing/brics...</td>\n",
       "      <td>Russia is no longer an option for investors. T...</td>\n",
       "      <td>For many years, the world's most popular emerg...</td>\n",
       "      <td>investing, Russia is no longer an option for i...</td>\n",
       "      <td>Russia is no longer an option for investors. T...</td>\n",
       "      <td>New York (CNN Business)For many years, the wor...</td>\n",
       "    </tr>\n",
       "  </tbody>\n",
       "</table>\n",
       "</div>"
      ],
      "text/plain": [
       "   Unnamed: 0                                             author  \\\n",
       "0           0                                 Jacopo Prisco, CNN   \n",
       "1           1                                 Jacopo Prisco, CNN   \n",
       "2           2                              Stephanie Bailey, CNN   \n",
       "3           3  Words by Stephanie Bailey, video by Zahra Jamshed   \n",
       "4           4                    Paul R. La Monica, CNN Business   \n",
       "\n",
       "         date_published   part_of article_section  \\\n",
       "0  2021-07-15T02:46:59Z      news           world   \n",
       "1  2021-07-15T02:46:59Z      news           world   \n",
       "2  2021-05-12T07:52:09Z      news           world   \n",
       "3  2021-06-16T02:51:30Z      news            asia   \n",
       "4  2022-03-15T09:57:36Z  business       investing   \n",
       "\n",
       "                                                 url  \\\n",
       "0  https://www.cnn.com/2021/07/14/world/tusimple-...   \n",
       "1  https://www.cnn.com/2021/07/14/world/tusimple-...   \n",
       "2  https://www.cnn.com/2021/05/12/world/ironhand-...   \n",
       "3  https://www.cnn.com/2021/06/15/asia/swarm-robo...   \n",
       "4  https://www.cnn.com/2022/03/15/investing/brics...   \n",
       "\n",
       "                                            headline  \\\n",
       "0  There's a shortage of truckers, but TuSimple t...   \n",
       "1  There's a shortage of truckers, but TuSimple t...   \n",
       "2  Bioservo's robotic 'Ironhand' could protect fa...   \n",
       "3  This swarm of robots gets smarter the more it ...   \n",
       "4  Russia is no longer an option for investors. T...   \n",
       "\n",
       "                                         description  \\\n",
       "0  The e-commerce boom has exacerbated a global t...   \n",
       "1  The e-commerce boom has exacerbated a global t...   \n",
       "2  Working in a factory can mean doing the same t...   \n",
       "3  In a Hong Kong warehouse, a swarm of autonomou...   \n",
       "4  For many years, the world's most popular emerg...   \n",
       "\n",
       "                                            keywords  \\\n",
       "0  world, There's a shortage of truckers, but TuS...   \n",
       "1  world, There's a shortage of truckers, but TuS...   \n",
       "2  world, Bioservo's robotic 'Ironhand' could pro...   \n",
       "3  asia, This swarm of robots gets smarter the mo...   \n",
       "4  investing, Russia is no longer an option for i...   \n",
       "\n",
       "                                alternative_headline  \\\n",
       "0  There's a shortage of truckers, but TuSimple t...   \n",
       "1  There's a shortage of truckers, but TuSimple t...   \n",
       "2  A robotic 'Ironhand' could protect factory wor...   \n",
       "3  This swarm of robots gets smarter the more it ...   \n",
       "4  Russia is no longer an option for investors. T...   \n",
       "\n",
       "                                                text  \n",
       "0   (CNN)Right now, there's a shortage of truck d...  \n",
       "1   (CNN)Right now, there's a shortage of truck d...  \n",
       "2   (CNN)Working in a factory or warehouse can me...  \n",
       "3   (CNN)In a Hong Kong warehouse, a swarm of aut...  \n",
       "4  New York (CNN Business)For many years, the wor...  "
      ]
     },
     "execution_count": 4,
     "metadata": {},
     "output_type": "execute_result"
    }
   ],
   "source": [
    "dataset.head()"
   ]
  },
  {
   "cell_type": "markdown",
   "id": "df711468",
   "metadata": {
    "papermill": {
     "duration": 0.025043,
     "end_time": "2022-03-16T14:27:54.554855",
     "exception": false,
     "start_time": "2022-03-16T14:27:54.529812",
     "status": "completed"
    },
    "tags": []
   },
   "source": [
    "## Remove duplicate\n",
    "Url is identifying value and because of that duplicate is not allowed"
   ]
  },
  {
   "cell_type": "code",
   "execution_count": 5,
   "id": "0daeb7d0",
   "metadata": {
    "execution": {
     "iopub.execute_input": "2022-03-16T14:27:54.614146Z",
     "iopub.status.busy": "2022-03-16T14:27:54.613457Z",
     "iopub.status.idle": "2022-03-16T14:27:54.619887Z",
     "shell.execute_reply": "2022-03-16T14:27:54.620540Z",
     "shell.execute_reply.started": "2022-03-16T14:13:31.254299Z"
    },
    "papermill": {
     "duration": 0.040433,
     "end_time": "2022-03-16T14:27:54.620719",
     "exception": false,
     "start_time": "2022-03-16T14:27:54.580286",
     "status": "completed"
    },
    "tags": []
   },
   "outputs": [
    {
     "data": {
      "text/plain": [
       "https://www.cnn.com/2022/03/15/investing/brics-emerging-markets-russia/index.html                                   14\n",
       "https://www.cnn.com/2022/03/06/entertainment/winning-time-review/index.html                                         10\n",
       "https://www.cnn.com/2022/03/07/entertainment/turning-red-review/index.html                                          10\n",
       "https://www.cnn.com/2021/06/03/sport/janja-garnbret-climbing-olympics-tokyo-cmd-spt-intl/index.html                  9\n",
       "https://www.cnn.com/2022/02/07/weather/category-6-hurricane-wxn/index.html                                           8\n",
       "                                                                                                                    ..\n",
       "https://www.cnn.com/2021/05/31/europe/decapitated-roman-remains-scn-scli-intl/index.html                             2\n",
       "https://www.cnn.com/2021/05/30/tennis/naomi-osaka-french-open-first-round-win-spt-intl/index.html                    2\n",
       "https://www.cnn.com/2021/05/31/football/alex-ferguson-documentary-manchester-united-football-spt-intl/index.html     2\n",
       "https://www.cnn.com/2021/05/31/tennis/naomi-osaka-french-open-withdraw-spt-intl/index.html                           2\n",
       "https://www.cnn.com/2021/12/01/golf/tiger-woods-end-of-era-meanwhile-spt-intl/index.html                             2\n",
       "Name: url, Length: 4076, dtype: int64"
      ]
     },
     "execution_count": 5,
     "metadata": {},
     "output_type": "execute_result"
    }
   ],
   "source": [
    "dataset['url'].value_counts()"
   ]
  },
  {
   "cell_type": "code",
   "execution_count": 6,
   "id": "62a1adad",
   "metadata": {
    "execution": {
     "iopub.execute_input": "2022-03-16T14:27:54.676807Z",
     "iopub.status.busy": "2022-03-16T14:27:54.676124Z",
     "iopub.status.idle": "2022-03-16T14:27:54.694675Z",
     "shell.execute_reply": "2022-03-16T14:27:54.694136Z",
     "shell.execute_reply.started": "2022-03-16T14:13:31.271127Z"
    },
    "papermill": {
     "duration": 0.046636,
     "end_time": "2022-03-16T14:27:54.694822",
     "exception": false,
     "start_time": "2022-03-16T14:27:54.648186",
     "status": "completed"
    },
    "tags": []
   },
   "outputs": [
    {
     "data": {
      "text/plain": [
       "https://www.cnn.com/2021/07/14/world/tusimple-autonomous-truck-spc-intl/index.html                               1\n",
       "https://www.cnn.com/2021/07/17/motorsport/ana-carrasco-supersport-broken-back-return-cmd-spt-intl/index.html     1\n",
       "https://www.cnn.com/2021/08/10/australia/australia-magpie-baby-death-intl-hnk/index.html                         1\n",
       "https://www.cnn.com/2021/08/10/sport/india-olympics-glory-intl-hnk/index.html                                    1\n",
       "https://www.cnn.com/2021/08/09/us/lamar-jackson-baltimore-ravens-covid/index.html                                1\n",
       "                                                                                                                ..\n",
       "https://www.cnn.com/2021/03/12/uk/meghan-race-britain-gbr-intl/index.html                                        1\n",
       "https://www.cnn.com/2021/03/11/europe/nazi-guard-trial-harry-s-stutthof-scli-intl-grm/index.html                 1\n",
       "https://www.cnn.com/2021/03/11/football/nba-meyers-leonard-fine-suspension-spt-intl/index.html                   1\n",
       "https://www.cnn.com/2021/03/10/football/cristiano-ronaldo-juventus-porto-champions-league-spt-intl/index.html    1\n",
       "https://www.cnn.com/2021/12/01/golf/tiger-woods-end-of-era-meanwhile-spt-intl/index.html                         1\n",
       "Name: url, Length: 4076, dtype: int64"
      ]
     },
     "execution_count": 6,
     "metadata": {},
     "output_type": "execute_result"
    }
   ],
   "source": [
    "dataset.drop_duplicates(subset=['url'], keep=\"first\", inplace=True)\n",
    "dataset['url'].value_counts()"
   ]
  },
  {
   "cell_type": "markdown",
   "id": "33775fa3",
   "metadata": {
    "papermill": {
     "duration": 0.025947,
     "end_time": "2022-03-16T14:27:54.746955",
     "exception": false,
     "start_time": "2022-03-16T14:27:54.721008",
     "status": "completed"
    },
    "tags": []
   },
   "source": [
    "## Handle missing data"
   ]
  },
  {
   "cell_type": "code",
   "execution_count": 7,
   "id": "9587d2ad",
   "metadata": {
    "execution": {
     "iopub.execute_input": "2022-03-16T14:27:54.814593Z",
     "iopub.status.busy": "2022-03-16T14:27:54.810840Z",
     "iopub.status.idle": "2022-03-16T14:27:54.816964Z",
     "shell.execute_reply": "2022-03-16T14:27:54.817430Z",
     "shell.execute_reply.started": "2022-03-16T14:13:31.297895Z"
    },
    "papermill": {
     "duration": 0.043296,
     "end_time": "2022-03-16T14:27:54.817615",
     "exception": false,
     "start_time": "2022-03-16T14:27:54.774319",
     "status": "completed"
    },
    "tags": []
   },
   "outputs": [
    {
     "data": {
      "text/plain": [
       "Unnamed: 0              0\n",
       "author                  0\n",
       "date_published          0\n",
       "part_of                 0\n",
       "article_section         0\n",
       "url                     0\n",
       "headline                0\n",
       "description             0\n",
       "keywords                0\n",
       "alternative_headline    0\n",
       "text                    0\n",
       "dtype: int64"
      ]
     },
     "execution_count": 7,
     "metadata": {},
     "output_type": "execute_result"
    }
   ],
   "source": [
    "dataset.isnull().sum()"
   ]
  },
  {
   "cell_type": "markdown",
   "id": "765137fe",
   "metadata": {
    "papermill": {
     "duration": 0.026036,
     "end_time": "2022-03-16T14:27:54.870151",
     "exception": false,
     "start_time": "2022-03-16T14:27:54.844115",
     "status": "completed"
    },
    "tags": []
   },
   "source": [
    "In this case, there is no missing data but if there were:"
   ]
  },
  {
   "cell_type": "code",
   "execution_count": 8,
   "id": "e208c2c2",
   "metadata": {
    "execution": {
     "iopub.execute_input": "2022-03-16T14:27:54.926769Z",
     "iopub.status.busy": "2022-03-16T14:27:54.925811Z",
     "iopub.status.idle": "2022-03-16T14:27:54.928632Z",
     "shell.execute_reply": "2022-03-16T14:27:54.929266Z",
     "shell.execute_reply.started": "2022-03-16T14:13:31.313198Z"
    },
    "papermill": {
     "duration": 0.032962,
     "end_time": "2022-03-16T14:27:54.929470",
     "exception": false,
     "start_time": "2022-03-16T14:27:54.896508",
     "status": "completed"
    },
    "tags": []
   },
   "outputs": [],
   "source": [
    "#dataset.fillna(0)\n",
    "#dataset.dropna()"
   ]
  },
  {
   "cell_type": "markdown",
   "id": "8be99642",
   "metadata": {
    "papermill": {
     "duration": 0.02613,
     "end_time": "2022-03-16T14:27:54.982279",
     "exception": false,
     "start_time": "2022-03-16T14:27:54.956149",
     "status": "completed"
    },
    "tags": []
   },
   "source": [
    "## Fix structure\n",
    "Change names and data types"
   ]
  },
  {
   "cell_type": "code",
   "execution_count": 9,
   "id": "4dbe126e",
   "metadata": {
    "execution": {
     "iopub.execute_input": "2022-03-16T14:27:55.042475Z",
     "iopub.status.busy": "2022-03-16T14:27:55.041765Z",
     "iopub.status.idle": "2022-03-16T14:27:55.046374Z",
     "shell.execute_reply": "2022-03-16T14:27:55.045865Z",
     "shell.execute_reply.started": "2022-03-16T14:13:31.320604Z"
    },
    "papermill": {
     "duration": 0.036991,
     "end_time": "2022-03-16T14:27:55.046579",
     "exception": false,
     "start_time": "2022-03-16T14:27:55.009588",
     "status": "completed"
    },
    "tags": []
   },
   "outputs": [],
   "source": [
    "dataset = dataset.rename(columns={\"Unnamed: 0\": \"Index\", \n",
    "                                  \"author\": \"Author\", \"date_published\":\"Date published\",\n",
    "                                  \"part_of\":\"Category\", \"article_section\":\"Section\",\n",
    "                                  \"url\":\"Url\", \"headline\":\"Headline\", \"description\":\"Description\",\n",
    "                                  \"description\":\"Description\", \"keywords\":\"Keywords\",\n",
    "                                  \"alternative_headline\":\"Second headline\", \"text\":\"Article text\"})"
   ]
  },
  {
   "cell_type": "code",
   "execution_count": 10,
   "id": "c3c2b80c",
   "metadata": {
    "execution": {
     "iopub.execute_input": "2022-03-16T14:27:55.116273Z",
     "iopub.status.busy": "2022-03-16T14:27:55.115596Z",
     "iopub.status.idle": "2022-03-16T14:27:55.128230Z",
     "shell.execute_reply": "2022-03-16T14:27:55.127605Z",
     "shell.execute_reply.started": "2022-03-16T14:13:31.334293Z"
    },
    "papermill": {
     "duration": 0.054098,
     "end_time": "2022-03-16T14:27:55.128369",
     "exception": false,
     "start_time": "2022-03-16T14:27:55.074271",
     "status": "completed"
    },
    "tags": []
   },
   "outputs": [],
   "source": [
    "dataset['Author'] = dataset['Author'].astype('string')\n",
    "dataset['Date published'] = dataset['Date published'].astype('datetime64[ns]')\n",
    "dataset['Category'] = dataset['Category'].astype('string')\n",
    "dataset['Section'] = dataset['Section'].astype('string')\n",
    "dataset['Url'] = dataset['Url'].astype('string')\n",
    "dataset['Headline'] = dataset['Headline'].astype('string')\n",
    "dataset['Description'] = dataset['Description'].astype('string')\n",
    "dataset['Keywords'] = dataset['Keywords'].astype('string')\n",
    "dataset['Second headline'] = dataset['Second headline'].astype('string')\n",
    "dataset['Article text'] = dataset['Article text'].astype('string')"
   ]
  },
  {
   "cell_type": "code",
   "execution_count": 11,
   "id": "2a1e3843",
   "metadata": {
    "execution": {
     "iopub.execute_input": "2022-03-16T14:27:55.187955Z",
     "iopub.status.busy": "2022-03-16T14:27:55.187236Z",
     "iopub.status.idle": "2022-03-16T14:27:55.203229Z",
     "shell.execute_reply": "2022-03-16T14:27:55.202643Z",
     "shell.execute_reply.started": "2022-03-16T14:13:31.363550Z"
    },
    "papermill": {
     "duration": 0.048399,
     "end_time": "2022-03-16T14:27:55.203371",
     "exception": false,
     "start_time": "2022-03-16T14:27:55.154972",
     "status": "completed"
    },
    "tags": []
   },
   "outputs": [
    {
     "name": "stdout",
     "output_type": "stream",
     "text": [
      "<class 'pandas.core.frame.DataFrame'>\n",
      "Int64Index: 4076 entries, 0 to 4729\n",
      "Data columns (total 11 columns):\n",
      " #   Column           Non-Null Count  Dtype         \n",
      "---  ------           --------------  -----         \n",
      " 0   Index            4076 non-null   int64         \n",
      " 1   Author           4076 non-null   string        \n",
      " 2   Date published   4076 non-null   datetime64[ns]\n",
      " 3   Category         4076 non-null   string        \n",
      " 4   Section          4076 non-null   string        \n",
      " 5   Url              4076 non-null   string        \n",
      " 6   Headline         4076 non-null   string        \n",
      " 7   Description      4076 non-null   string        \n",
      " 8   Keywords         4076 non-null   string        \n",
      " 9   Second headline  4076 non-null   string        \n",
      " 10  Article text     4076 non-null   string        \n",
      "dtypes: datetime64[ns](1), int64(1), string(9)\n",
      "memory usage: 382.1 KB\n"
     ]
    }
   ],
   "source": [
    "dataset.info()"
   ]
  },
  {
   "cell_type": "markdown",
   "id": "7355c9df",
   "metadata": {
    "papermill": {
     "duration": 0.026334,
     "end_time": "2022-03-16T14:27:55.257662",
     "exception": false,
     "start_time": "2022-03-16T14:27:55.231328",
     "status": "completed"
    },
    "tags": []
   },
   "source": [
    "# Data visualization"
   ]
  },
  {
   "cell_type": "code",
   "execution_count": 12,
   "id": "1b58c633",
   "metadata": {
    "execution": {
     "iopub.execute_input": "2022-03-16T14:27:55.314338Z",
     "iopub.status.busy": "2022-03-16T14:27:55.313691Z",
     "iopub.status.idle": "2022-03-16T14:27:56.278338Z",
     "shell.execute_reply": "2022-03-16T14:27:56.277731Z",
     "shell.execute_reply.started": "2022-03-16T14:13:31.385217Z"
    },
    "papermill": {
     "duration": 0.994036,
     "end_time": "2022-03-16T14:27:56.278553",
     "exception": false,
     "start_time": "2022-03-16T14:27:55.284517",
     "status": "completed"
    },
    "tags": []
   },
   "outputs": [],
   "source": [
    "import matplotlib.pyplot as plt\n",
    "import seaborn as sns"
   ]
  },
  {
   "cell_type": "code",
   "execution_count": 13,
   "id": "f5b4455d",
   "metadata": {
    "execution": {
     "iopub.execute_input": "2022-03-16T14:27:56.340637Z",
     "iopub.status.busy": "2022-03-16T14:27:56.339882Z",
     "iopub.status.idle": "2022-03-16T14:27:56.353405Z",
     "shell.execute_reply": "2022-03-16T14:27:56.353946Z",
     "shell.execute_reply.started": "2022-03-16T14:13:31.392279Z"
    },
    "papermill": {
     "duration": 0.047697,
     "end_time": "2022-03-16T14:27:56.354117",
     "exception": false,
     "start_time": "2022-03-16T14:27:56.306420",
     "status": "completed"
    },
    "tags": []
   },
   "outputs": [
    {
     "data": {
      "text/html": [
       "<div>\n",
       "<style scoped>\n",
       "    .dataframe tbody tr th:only-of-type {\n",
       "        vertical-align: middle;\n",
       "    }\n",
       "\n",
       "    .dataframe tbody tr th {\n",
       "        vertical-align: top;\n",
       "    }\n",
       "\n",
       "    .dataframe thead th {\n",
       "        text-align: right;\n",
       "    }\n",
       "</style>\n",
       "<table border=\"1\" class=\"dataframe\">\n",
       "  <thead>\n",
       "    <tr style=\"text-align: right;\">\n",
       "      <th></th>\n",
       "      <th>Index</th>\n",
       "      <th>Author</th>\n",
       "      <th>Date published</th>\n",
       "      <th>Category</th>\n",
       "      <th>Section</th>\n",
       "      <th>Url</th>\n",
       "      <th>Headline</th>\n",
       "      <th>Description</th>\n",
       "      <th>Keywords</th>\n",
       "      <th>Second headline</th>\n",
       "      <th>Article text</th>\n",
       "    </tr>\n",
       "  </thead>\n",
       "  <tbody>\n",
       "    <tr>\n",
       "      <th>3050</th>\n",
       "      <td>3050</td>\n",
       "      <td>Ben Morse, CNN</td>\n",
       "      <td>2021-07-17 14:32:47</td>\n",
       "      <td>sport</td>\n",
       "      <td>golf</td>\n",
       "      <td>https://www.cnn.com/2021/07/17/golf/links-cour...</td>\n",
       "      <td>Louis Oosthuizen: Sun, sea and golf and the ch...</td>\n",
       "      <td>Most people can't wait to head to the coast an...</td>\n",
       "      <td>golf, Louis Oosthuizen: Sun, sea and golf and ...</td>\n",
       "      <td>Sun, sea and golf and the challenge of playing...</td>\n",
       "      <td>(CNN)Most people can't wait to head to the co...</td>\n",
       "    </tr>\n",
       "    <tr>\n",
       "      <th>2876</th>\n",
       "      <td>2876</td>\n",
       "      <td>Saskya Vandoorne, Chris Liakos and Arnaud Siad...</td>\n",
       "      <td>2021-06-03 16:42:36</td>\n",
       "      <td>news</td>\n",
       "      <td>europe</td>\n",
       "      <td>https://www.cnn.com/2021/06/03/europe/air-fran...</td>\n",
       "      <td>Air France flight evacuated after anonymous th...</td>\n",
       "      <td>Passengers on an Air France flight were evacua...</td>\n",
       "      <td>europe, Air France flight evacuated after anon...</td>\n",
       "      <td>Air France flight evacuated after anonymous th...</td>\n",
       "      <td>(CNN)Passengers on an Air France flight were ...</td>\n",
       "    </tr>\n",
       "    <tr>\n",
       "      <th>1287</th>\n",
       "      <td>1287</td>\n",
       "      <td>Rob Kuznia, Curt Devine and Yahya Abou-Ghazala...</td>\n",
       "      <td>2021-12-09 12:10:17</td>\n",
       "      <td>business</td>\n",
       "      <td>business</td>\n",
       "      <td>https://www.cnn.com/2021/12/09/business/epik-h...</td>\n",
       "      <td>Epik is a refuge for the deplatformed far righ...</td>\n",
       "      <td></td>\n",
       "      <td>business, Epik is a refuge for the deplatforme...</td>\n",
       "      <td>Epik is a refuge for the deplatformed far righ...</td>\n",
       "      <td>(CNN)In October of 2018, a man walked into th...</td>\n",
       "    </tr>\n",
       "    <tr>\n",
       "      <th>960</th>\n",
       "      <td>960</td>\n",
       "      <td>Allison Chinchar and Haley Brink, CNN Meteorol...</td>\n",
       "      <td>2021-11-30 09:30:47</td>\n",
       "      <td>news</td>\n",
       "      <td>weather</td>\n",
       "      <td>https://www.cnn.com/2021/11/30/weather/weather...</td>\n",
       "      <td>Atlantic hurricane season ends up as more cost...</td>\n",
       "      <td>The 2021 Atlantic hurricane season, just like ...</td>\n",
       "      <td>weather, Atlantic hurricane season ends up as ...</td>\n",
       "      <td>Atlantic hurricane season ends up as more cost...</td>\n",
       "      <td>(CNN)The 2021 Atlantic hurricane season, just...</td>\n",
       "    </tr>\n",
       "    <tr>\n",
       "      <th>1442</th>\n",
       "      <td>1442</td>\n",
       "      <td>Aleks Klosok and George Ramsay, CNN</td>\n",
       "      <td>2021-01-25 11:44:07</td>\n",
       "      <td>sport</td>\n",
       "      <td>football</td>\n",
       "      <td>https://www.cnn.com/2021/01/25/football/frank-...</td>\n",
       "      <td>Chelsea sacks manager Frank Lampard - CNN</td>\n",
       "      <td>Chelsea has parted company with manager Frank ...</td>\n",
       "      <td>football, Chelsea sacks manager Frank Lampard ...</td>\n",
       "      <td>Chelsea sacks manager Frank Lampard</td>\n",
       "      <td>(CNN)Chelsea has parted company with manager ...</td>\n",
       "    </tr>\n",
       "  </tbody>\n",
       "</table>\n",
       "</div>"
      ],
      "text/plain": [
       "      Index                                             Author  \\\n",
       "3050   3050                                     Ben Morse, CNN   \n",
       "2876   2876  Saskya Vandoorne, Chris Liakos and Arnaud Siad...   \n",
       "1287   1287  Rob Kuznia, Curt Devine and Yahya Abou-Ghazala...   \n",
       "960     960  Allison Chinchar and Haley Brink, CNN Meteorol...   \n",
       "1442   1442                Aleks Klosok and George Ramsay, CNN   \n",
       "\n",
       "          Date published  Category   Section  \\\n",
       "3050 2021-07-17 14:32:47     sport      golf   \n",
       "2876 2021-06-03 16:42:36      news    europe   \n",
       "1287 2021-12-09 12:10:17  business  business   \n",
       "960  2021-11-30 09:30:47      news   weather   \n",
       "1442 2021-01-25 11:44:07     sport  football   \n",
       "\n",
       "                                                    Url  \\\n",
       "3050  https://www.cnn.com/2021/07/17/golf/links-cour...   \n",
       "2876  https://www.cnn.com/2021/06/03/europe/air-fran...   \n",
       "1287  https://www.cnn.com/2021/12/09/business/epik-h...   \n",
       "960   https://www.cnn.com/2021/11/30/weather/weather...   \n",
       "1442  https://www.cnn.com/2021/01/25/football/frank-...   \n",
       "\n",
       "                                               Headline  \\\n",
       "3050  Louis Oosthuizen: Sun, sea and golf and the ch...   \n",
       "2876  Air France flight evacuated after anonymous th...   \n",
       "1287  Epik is a refuge for the deplatformed far righ...   \n",
       "960   Atlantic hurricane season ends up as more cost...   \n",
       "1442          Chelsea sacks manager Frank Lampard - CNN   \n",
       "\n",
       "                                            Description  \\\n",
       "3050  Most people can't wait to head to the coast an...   \n",
       "2876  Passengers on an Air France flight were evacua...   \n",
       "1287                                                  \n",
       "   \n",
       "960   The 2021 Atlantic hurricane season, just like ...   \n",
       "1442  Chelsea has parted company with manager Frank ...   \n",
       "\n",
       "                                               Keywords  \\\n",
       "3050  golf, Louis Oosthuizen: Sun, sea and golf and ...   \n",
       "2876  europe, Air France flight evacuated after anon...   \n",
       "1287  business, Epik is a refuge for the deplatforme...   \n",
       "960   weather, Atlantic hurricane season ends up as ...   \n",
       "1442  football, Chelsea sacks manager Frank Lampard ...   \n",
       "\n",
       "                                        Second headline  \\\n",
       "3050  Sun, sea and golf and the challenge of playing...   \n",
       "2876  Air France flight evacuated after anonymous th...   \n",
       "1287  Epik is a refuge for the deplatformed far righ...   \n",
       "960   Atlantic hurricane season ends up as more cost...   \n",
       "1442                Chelsea sacks manager Frank Lampard   \n",
       "\n",
       "                                           Article text  \n",
       "3050   (CNN)Most people can't wait to head to the co...  \n",
       "2876   (CNN)Passengers on an Air France flight were ...  \n",
       "1287   (CNN)In October of 2018, a man walked into th...  \n",
       "960    (CNN)The 2021 Atlantic hurricane season, just...  \n",
       "1442   (CNN)Chelsea has parted company with manager ...  "
      ]
     },
     "execution_count": 13,
     "metadata": {},
     "output_type": "execute_result"
    }
   ],
   "source": [
    "dataset.sample(5)"
   ]
  },
  {
   "cell_type": "code",
   "execution_count": 14,
   "id": "6db9592d",
   "metadata": {
    "execution": {
     "iopub.execute_input": "2022-03-16T14:27:56.412361Z",
     "iopub.status.busy": "2022-03-16T14:27:56.411714Z",
     "iopub.status.idle": "2022-03-16T14:27:56.645815Z",
     "shell.execute_reply": "2022-03-16T14:27:56.645149Z",
     "shell.execute_reply.started": "2022-03-16T14:13:31.423098Z"
    },
    "papermill": {
     "duration": 0.264353,
     "end_time": "2022-03-16T14:27:56.645962",
     "exception": false,
     "start_time": "2022-03-16T14:27:56.381609",
     "status": "completed"
    },
    "tags": []
   },
   "outputs": [
    {
     "data": {
      "image/png": "[encoded data removed]",
      "text/plain": [
       "<Figure size 432x288 with 1 Axes>"
      ]
     },
     "metadata": {
      "needs_background": "light"
     },
     "output_type": "display_data"
    }
   ],
   "source": [
    "sns.countplot(dataset['Category']);"
   ]
  },
  {
   "cell_type": "code",
   "execution_count": 15,
   "id": "0b9e3ff0",
   "metadata": {
    "execution": {
     "iopub.execute_input": "2022-03-16T14:27:56.711231Z",
     "iopub.status.busy": "2022-03-16T14:27:56.710515Z",
     "iopub.status.idle": "2022-03-16T14:27:56.949323Z",
     "shell.execute_reply": "2022-03-16T14:27:56.950162Z",
     "shell.execute_reply.started": "2022-03-16T14:13:31.626533Z"
    },
    "papermill": {
     "duration": 0.275871,
     "end_time": "2022-03-16T14:27:56.950470",
     "exception": false,
     "start_time": "2022-03-16T14:27:56.674599",
     "status": "completed"
    },
    "tags": []
   },
   "outputs": [
    {
     "data": {
      "image/png": "[encoded data removed]",
      "text/plain": [
       "<Figure size 432x288 with 1 Axes>"
      ]
     },
     "metadata": {},
     "output_type": "display_data"
    }
   ],
   "source": [
    "dataset['Section'].value_counts()[:15].plot(kind='pie');"
   ]
  },
  {
   "cell_type": "code",
   "execution_count": 16,
   "id": "cef1d32a",
   "metadata": {
    "execution": {
     "iopub.execute_input": "2022-03-16T14:27:57.040301Z",
     "iopub.status.busy": "2022-03-16T14:27:57.039671Z",
     "iopub.status.idle": "2022-03-16T14:27:57.461704Z",
     "shell.execute_reply": "2022-03-16T14:27:57.462253Z",
     "shell.execute_reply.started": "2022-03-16T14:13:31.824144Z"
    },
    "papermill": {
     "duration": 0.4566,
     "end_time": "2022-03-16T14:27:57.462450",
     "exception": false,
     "start_time": "2022-03-16T14:27:57.005850",
     "status": "completed"
    },
    "tags": []
   },
   "outputs": [
    {
     "data": {
      "image/png": "[encoded data removed]",
      "text/plain": [
       "<Figure size 504x504 with 1 Axes>"
      ]
     },
     "metadata": {
      "needs_background": "light"
     },
     "output_type": "display_data"
    }
   ],
   "source": [
    "dataset['Section'].value_counts().plot(kind='barh', figsize=(7, 7));"
   ]
  },
  {
   "cell_type": "code",
   "execution_count": 17,
   "id": "7ea755ca",
   "metadata": {
    "execution": {
     "iopub.execute_input": "2022-03-16T14:27:57.528689Z",
     "iopub.status.busy": "2022-03-16T14:27:57.527991Z",
     "iopub.status.idle": "2022-03-16T14:27:57.808341Z",
     "shell.execute_reply": "2022-03-16T14:27:57.809060Z",
     "shell.execute_reply.started": "2022-03-16T14:13:32.279956Z"
    },
    "papermill": {
     "duration": 0.314933,
     "end_time": "2022-03-16T14:27:57.809239",
     "exception": false,
     "start_time": "2022-03-16T14:27:57.494306",
     "status": "completed"
    },
    "tags": []
   },
   "outputs": [
    {
     "data": {
      "image/png": "[encoded data removed]",
      "text/plain": [
       "<Figure size 432x288 with 1 Axes>"
      ]
     },
     "metadata": {
      "needs_background": "light"
     },
     "output_type": "display_data"
    }
   ],
   "source": [
    "sns.stripplot(data=dataset, x='Date published');"
   ]
  },
  {
   "cell_type": "markdown",
   "id": "394e4287",
   "metadata": {
    "papermill": {
     "duration": 0.032714,
     "end_time": "2022-03-16T14:27:57.875681",
     "exception": false,
     "start_time": "2022-03-16T14:27:57.842967",
     "status": "completed"
    },
    "tags": []
   },
   "source": [
    "# Output"
   ]
  },
  {
   "cell_type": "code",
   "execution_count": 18,
   "id": "36f1e5ca",
   "metadata": {
    "execution": {
     "iopub.execute_input": "2022-03-16T14:27:57.945704Z",
     "iopub.status.busy": "2022-03-16T14:27:57.944991Z",
     "iopub.status.idle": "2022-03-16T14:27:58.962064Z",
     "shell.execute_reply": "2022-03-16T14:27:58.961427Z",
     "shell.execute_reply.started": "2022-03-16T14:26:22.484633Z"
    },
    "papermill": {
     "duration": 1.052656,
     "end_time": "2022-03-16T14:27:58.962207",
     "exception": false,
     "start_time": "2022-03-16T14:27:57.909551",
     "status": "completed"
    },
    "tags": []
   },
   "outputs": [],
   "source": [
    "dataset.to_csv('CNN_Articels_clean.csv', index=False)"
   ]
  }
 ],
 "metadata": {
  "kernelspec": {
   "display_name": "Python 3",
   "language": "python",
   "name": "python3"
  },
  "language_info": {
   "codemirror_mode": {
    "name": "ipython",
    "version": 3
   },
   "file_extension": ".py",
   "mimetype": "text/x-python",
   "name": "python",
   "nbconvert_exporter": "python",
   "pygments_lexer": "ipython3",
   "version": "3.7.12"
  },
  "papermill": {
   "default_parameters": {},
   "duration": 16.61129,
   "end_time": "2022-03-16T14:27:59.704258",
   "environment_variables": {},
   "exception": null,
   "input_path": "__notebook__.ipynb",
   "output_path": "__notebook__.ipynb",
   "parameters": {},
   "start_time": "2022-03-16T14:27:43.092968",
   "version": "2.3.3"
  }
 },
 "nbformat": 4,
 "nbformat_minor": 5
}
